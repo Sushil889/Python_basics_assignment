{
 "cells": [
  {
   "cell_type": "code",
   "execution_count": 1,
   "id": "7fbf6d67-6a19-4ff5-b76c-62e4321d2728",
   "metadata": {},
   "outputs": [],
   "source": [
    "#Q1 Explain key features of python that make it popular choice of programming\n",
    "# Ans. Key features of python that make it popular choice of programming:-\n",
    "# 1. Python is free to use and distribiute and is supported by community.\n",
    "# 2. Python interpreter is avaiable for every major platform.\n",
    "# 3. Python programs run unchanged on most platforms.\n",
    "# 4. Python runs on every major platforms currently in use.\n",
    "# 5. Vast collection of third party libraies.\n"
   ]
  },
  {
   "cell_type": "code",
   "execution_count": 2,
   "id": "06ed8915-0d2c-46a7-a32f-f613075837ab",
   "metadata": {},
   "outputs": [],
   "source": [
    "#Q2 Describe the role of predefined keyword and provide example of how they are used in python.\n",
    "# Ans. Here the some example of predefined keywords:-\n",
    "# False      await      else       import     pass\n",
    "# None       break      except     in         raise\n",
    "# True       class      finally    is         return\n",
    "# and        continue   for        lambda     try\n",
    "# as         def        from       nonlocal   while\n",
    "# assert     del        global     not        with\n",
    "# async      elif       if         or         yield"
   ]
  },
  {
   "cell_type": "code",
   "execution_count": 3,
   "id": "3fe8ec32-3548-4cab-93a3-94b0506b4888",
   "metadata": {},
   "outputs": [
    {
     "data": {
      "text/plain": [
       "[1, 15, 3, 4, 31]"
      ]
     },
     "execution_count": 3,
     "metadata": {},
     "output_type": "execute_result"
    }
   ],
   "source": [
    "#Q3 Compare and contrast of mutable and immutable objects in python with example.\n",
    "# Ans. Mutable:- Mutable objects are those objects whose values can be change.\n",
    "# Example:- list, set, dictionary.\n",
    "lists= [1, 2, 3 , 4, 5]\n",
    "lists[1]= 15\n",
    "lists[4]= 31\n",
    "lists"
   ]
  },
  {
   "cell_type": "code",
   "execution_count": 4,
   "id": "a495367a-525e-4799-a588-64db45f5b671",
   "metadata": {},
   "outputs": [
    {
     "data": {
      "text/plain": [
       "{1, 2, 3, 4, 5}"
      ]
     },
     "execution_count": 4,
     "metadata": {},
     "output_type": "execute_result"
    }
   ],
   "source": [
    "s={1, 2, 3, 4}\n",
    "s.add(5)\n",
    "s"
   ]
  },
  {
   "cell_type": "code",
   "execution_count": 5,
   "id": "f369d751-3375-4580-a3d2-4b8073f942e1",
   "metadata": {},
   "outputs": [],
   "source": [
    "#immutable:- immutable objects are those objects whose value can not be changed\n",
    "# Example:- tupple, string"
   ]
  },
  {
   "cell_type": "code",
   "execution_count": 6,
   "id": "19d79b4b-4104-4167-a5f6-daf79898c367",
   "metadata": {},
   "outputs": [
    {
     "data": {
      "text/plain": [
       "14"
      ]
     },
     "execution_count": 6,
     "metadata": {},
     "output_type": "execute_result"
    }
   ],
   "source": [
    "# Discuss the types of different operators in python and provide examples of how they are used.\n",
    "# Ans. 1.Arithmatic Operators:- \n",
    "# Example:- +, -, *, /, %, **.\n",
    "a=6\n",
    "b=8\n",
    "a+b"
   ]
  },
  {
   "cell_type": "code",
   "execution_count": 7,
   "id": "b6190d1e-dfc9-4e26-a885-5bc84ff5b294",
   "metadata": {},
   "outputs": [
    {
     "data": {
      "text/plain": [
       "False"
      ]
     },
     "execution_count": 7,
     "metadata": {},
     "output_type": "execute_result"
    }
   ],
   "source": [
    "# 2. Comparison Operators:-\n",
    "# Example:- <, >, >=, <=, ==, !=.\n",
    "a=8\n",
    "b=15\n",
    "a>b"
   ]
  },
  {
   "cell_type": "code",
   "execution_count": 8,
   "id": "80b2ef9b-3f9b-4900-a210-93c33847c6fb",
   "metadata": {},
   "outputs": [
    {
     "data": {
      "text/plain": [
       "True"
      ]
     },
     "execution_count": 8,
     "metadata": {},
     "output_type": "execute_result"
    }
   ],
   "source": [
    "# 3. Logical Operators:-\n",
    "# Example:-\n",
    "# Logical and\n",
    "# Logical or\n",
    "# Logical not\n",
    "a=15\n",
    "b=20\n",
    "(a>10)and(b<30)"
   ]
  },
  {
   "cell_type": "code",
   "execution_count": 9,
   "id": "dfbed46a-6cde-4236-bdb6-4025c9b2c81a",
   "metadata": {},
   "outputs": [
    {
     "data": {
      "text/plain": [
       "False"
      ]
     },
     "execution_count": 9,
     "metadata": {},
     "output_type": "execute_result"
    }
   ],
   "source": [
    "a=50\n",
    "b=60\n",
    "(a>100)or(b<10)"
   ]
  },
  {
   "cell_type": "code",
   "execution_count": 10,
   "id": "2662202a-4ca2-464a-81d6-ac3bd262fa91",
   "metadata": {},
   "outputs": [
    {
     "data": {
      "text/plain": [
       "4"
      ]
     },
     "execution_count": 10,
     "metadata": {},
     "output_type": "execute_result"
    }
   ],
   "source": [
    "# 4. Bitwise Operators:-\n",
    "#Example:-\n",
    "# Bitwise AND(&)\n",
    "# Bitwise OR(|)\n",
    "# Bitwise XOR(^)\n",
    "# Bitwise left shift(<<)\n",
    "# Bitwise right shift(>>)\n",
    "a=12\n",
    "b=5\n",
    "a&b"
   ]
  },
  {
   "cell_type": "code",
   "execution_count": 11,
   "id": "55584186-971b-4903-b866-891246d50f7e",
   "metadata": {},
   "outputs": [
    {
     "data": {
      "text/plain": [
       "13"
      ]
     },
     "execution_count": 11,
     "metadata": {},
     "output_type": "execute_result"
    }
   ],
   "source": [
    "a|b"
   ]
  },
  {
   "cell_type": "code",
   "execution_count": 12,
   "id": "ac5556f5-d768-4877-88f9-d1a3cced375d",
   "metadata": {},
   "outputs": [
    {
     "data": {
      "text/plain": [
       "9"
      ]
     },
     "execution_count": 12,
     "metadata": {},
     "output_type": "execute_result"
    }
   ],
   "source": [
    "a^b"
   ]
  },
  {
   "cell_type": "code",
   "execution_count": 13,
   "id": "db846455-0cdb-4975-ad94-ee177b87ac33",
   "metadata": {},
   "outputs": [
    {
     "data": {
      "text/plain": [
       "48"
      ]
     },
     "execution_count": 13,
     "metadata": {},
     "output_type": "execute_result"
    }
   ],
   "source": [
    "a<<2"
   ]
  },
  {
   "cell_type": "code",
   "execution_count": 14,
   "id": "66089b18-b876-4c9b-9d95-b927b2986206",
   "metadata": {},
   "outputs": [
    {
     "data": {
      "text/plain": [
       "3"
      ]
     },
     "execution_count": 14,
     "metadata": {},
     "output_type": "execute_result"
    }
   ],
   "source": [
    "a>>2"
   ]
  },
  {
   "cell_type": "code",
   "execution_count": 15,
   "id": "4d5cb29b-88d7-431d-94c3-4942dbc19437",
   "metadata": {},
   "outputs": [
    {
     "data": {
      "text/plain": [
       "int"
      ]
     },
     "execution_count": 15,
     "metadata": {},
     "output_type": "execute_result"
    }
   ],
   "source": [
    "#Q5 Explain typecasting in python with example.\n",
    "# Ans. Type casting is the method to convert the python variable datatype into a certain data type.\n",
    "st= \"66\"\n",
    "result=int(st)\n",
    "result\n",
    "type(result)"
   ]
  },
  {
   "cell_type": "code",
   "execution_count": 16,
   "id": "44b6b6c9-b101-4b13-a074-0a0f70393a1a",
   "metadata": {},
   "outputs": [
    {
     "data": {
      "text/plain": [
       "float"
      ]
     },
     "execution_count": 16,
     "metadata": {},
     "output_type": "execute_result"
    }
   ],
   "source": [
    "i= 56\n",
    "result= float(i)\n",
    "result\n",
    "type(result)"
   ]
  },
  {
   "cell_type": "code",
   "execution_count": 17,
   "id": "3a89b850-d11f-40cb-bd35-ae8613495088",
   "metadata": {},
   "outputs": [
    {
     "data": {
      "text/plain": [
       "int"
      ]
     },
     "execution_count": 17,
     "metadata": {},
     "output_type": "execute_result"
    }
   ],
   "source": [
    "fl= 56.6\n",
    "result= int(fl)\n",
    "result\n",
    "type(result)"
   ]
  },
  {
   "cell_type": "code",
   "execution_count": 18,
   "id": "01a35d73-e597-4196-8a7f-ad7a2a1560fe",
   "metadata": {},
   "outputs": [
    {
     "data": {
      "text/plain": [
       "list"
      ]
     },
     "execution_count": 18,
     "metadata": {},
     "output_type": "execute_result"
    }
   ],
   "source": [
    "tup= (1, 2, 3, 5)\n",
    "result= list(tup)\n",
    "result\n",
    "type(result)"
   ]
  },
  {
   "cell_type": "code",
   "execution_count": 19,
   "id": "f08e8314-1a62-4c0c-a699-d599743fa508",
   "metadata": {},
   "outputs": [
    {
     "data": {
      "text/plain": [
       "tuple"
      ]
     },
     "execution_count": 19,
     "metadata": {},
     "output_type": "execute_result"
    }
   ],
   "source": [
    "li=[1,2,3,4,5]\n",
    "result= tuple(li)\n",
    "result\n",
    "type(result)"
   ]
  },
  {
   "cell_type": "code",
   "execution_count": 20,
   "id": "7d8fcf11-dc42-4d1b-826d-6948fa9f6023",
   "metadata": {},
   "outputs": [
    {
     "name": "stdout",
     "output_type": "stream",
     "text": [
      "You are eligible for voting\n"
     ]
    }
   ],
   "source": [
    "#Q6 How conditional statement work in python? illustrate with example.\n",
    "# Ans. If the condition is true, the if block code is executed and if the condition is false, the else block code is executed.\n",
    "# Types of conditional statement:-\n",
    "# 1. if statement\n",
    "# 2. if-else startElement\n",
    "# 3. if-elif else startElement\n",
    "# 4. nested if-else statement\n",
    "\n",
    "#Example of if statement\n",
    "age = 25\n",
    "if age>=18:\n",
    "    print(\"You are eligible for voting\")"
   ]
  },
  {
   "cell_type": "code",
   "execution_count": 21,
   "id": "4f2e16c0-3253-4555-84d6-5fd2f2091f90",
   "metadata": {},
   "outputs": [
    {
     "name": "stdout",
     "output_type": "stream",
     "text": [
      "You are not eligible for vote\n"
     ]
    }
   ],
   "source": [
    "#Example of if-else statement\n",
    "age=17\n",
    "if age>=18:\n",
    "    print(\"You are eligible for vote\")\n",
    "else:\n",
    "    print(\"You are not eligible for vote\")"
   ]
  },
  {
   "cell_type": "code",
   "execution_count": 22,
   "id": "5b2007b5-6a20-4ca2-8a15-77512116a6e9",
   "metadata": {},
   "outputs": [
    {
     "name": "stdout",
     "output_type": "stream",
     "text": [
      "Second Division\n"
     ]
    }
   ],
   "source": [
    "#Example of if-elif else statement\n",
    "grade= 5.5\n",
    "if grade>=7.0 and grade<=10.0:\n",
    "    print(\"First Division\")\n",
    "elif grade>=5.0 and grade<=7.0:\n",
    "    print(\"Second Division\")\n",
    "else:\n",
    "    print(\"Third Division\")"
   ]
  },
  {
   "cell_type": "code",
   "execution_count": 23,
   "id": "8c7e93ee-7bec-4f8e-bbd5-608ce1f0be21",
   "metadata": {},
   "outputs": [
    {
     "name": "stdout",
     "output_type": "stream",
     "text": [
      "The number is positive.\n"
     ]
    }
   ],
   "source": [
    "#nested if-else statement\n",
    "num = 5\n",
    "\n",
    "if num > 0:\n",
    "    print(\"The number is positive.\")\n",
    "else:\n",
    "    if num < 0:\n",
    "        print(\"The number is negative.\")\n",
    "    else:\n",
    "        print(\"The number is zero.\")"
   ]
  },
  {
   "cell_type": "code",
   "execution_count": 24,
   "id": "f91d19e8-4204-4147-b073-55cb9b6693a2",
   "metadata": {},
   "outputs": [
    {
     "name": "stdout",
     "output_type": "stream",
     "text": [
      "John Doe\n",
      "John Doe\n",
      "John Doe\n",
      "John Doe\n"
     ]
    }
   ],
   "source": [
    "#Q7 Describe the different types of loops in Python and thei$ use cases with examples?\n",
    "#Loop Statement:- LOOP statements execute a sequence of statements multiple times.\n",
    "# Types of loop statement:-\n",
    "# 1. For loop statement :   this loop iterate over a sequence of elements\n",
    "# 2. While loop statement: this loop allows to repeadaly execute a block of code untill a condition is met\n",
    "for i in range(1,5):\n",
    "     print(\"John Doe\")\n",
    "   "
   ]
  },
  {
   "cell_type": "code",
   "execution_count": 25,
   "id": "a958a1f1-4cb0-42bd-ab7c-2d9239ca4e96",
   "metadata": {},
   "outputs": [
    {
     "name": "stdout",
     "output_type": "stream",
     "text": [
      "1\n",
      "2\n",
      "3\n",
      "4\n",
      "5\n"
     ]
    }
   ],
   "source": [
    "i = 1\n",
    "while i < 6:\n",
    "    print(i)\n",
    "    i += 1"
   ]
  },
  {
   "cell_type": "code",
   "execution_count": 26,
   "id": "92df643b-475e-4ffe-9304-20a0a0f94cee",
   "metadata": {},
   "outputs": [
    {
     "name": "stdout",
     "output_type": "stream",
     "text": [
      "1\n"
     ]
    }
   ],
   "source": [
    "#Break and Continue Statement:- Break statement stops the entire process of the loop and Continue statement only stops the current iteration of the loop.\n",
    "# Example of break statement:-\n",
    "for item in range(1,10,1):\n",
    "    if item%2==0:\n",
    "        break\n",
    "    print(item)"
   ]
  },
  {
   "cell_type": "code",
   "execution_count": 27,
   "id": "2cb8a959-5fe8-4b4c-9046-6173fc3b9b24",
   "metadata": {},
   "outputs": [
    {
     "name": "stdout",
     "output_type": "stream",
     "text": [
      "1\n",
      "3\n",
      "5\n",
      "7\n",
      "9\n"
     ]
    }
   ],
   "source": [
    "# Example of continue statement:-\n",
    "for item in range(1,10,1):\n",
    "    if item%2==0:\n",
    "        continue\n",
    "    print(item)"
   ]
  },
  {
   "cell_type": "code",
   "execution_count": null,
   "id": "226fb643-6da7-458c-9f67-a97a98ee125f",
   "metadata": {},
   "outputs": [],
   "source": []
  }
 ],
 "metadata": {
  "kernelspec": {
   "display_name": "Python 3 (ipykernel)",
   "language": "python",
   "name": "python3"
  },
  "language_info": {
   "codemirror_mode": {
    "name": "ipython",
    "version": 3
   },
   "file_extension": ".py",
   "mimetype": "text/x-python",
   "name": "python",
   "nbconvert_exporter": "python",
   "pygments_lexer": "ipython3",
   "version": "3.10.8"
  }
 },
 "nbformat": 4,
 "nbformat_minor": 5
}
